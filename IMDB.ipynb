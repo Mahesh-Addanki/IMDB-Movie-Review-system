{
 "cells": [
  {
   "cell_type": "code",
   "execution_count": null,
   "id": "e1f1f090",
   "metadata": {},
   "outputs": [],
   "source": []
  },
  {
   "cell_type": "markdown",
   "id": "cc2f4173",
   "metadata": {},
   "source": [
    "### Importing some required modules:"
   ]
  },
  {
   "cell_type": "code",
   "execution_count": 1,
   "id": "fc8903f8",
   "metadata": {},
   "outputs": [],
   "source": [
    "import pandas as pd\n",
    "import numpy as np\n",
    "import matplotlib.pyplot as plt\n",
    "import seaborn as sns"
   ]
  },
  {
   "cell_type": "markdown",
   "id": "be169986",
   "metadata": {},
   "source": [
    "### Importing our Dataset:\n",
    "  * Importing from our local storage"
   ]
  },
  {
   "cell_type": "code",
   "execution_count": 2,
   "id": "8e3e2e14",
   "metadata": {},
   "outputs": [
    {
     "data": {
      "text/plain": [
       "(50000, 2)"
      ]
     },
     "execution_count": 2,
     "metadata": {},
     "output_type": "execute_result"
    }
   ],
   "source": [
    "imdb = pd.read_csv(r\"C:\\Users\\mahes\\Desktop\\Projects DS\\Project-3\\IMDB Dataset.csv\")\n",
    "imdb.shape"
   ]
  },
  {
   "cell_type": "code",
   "execution_count": 3,
   "id": "4de9f66a",
   "metadata": {},
   "outputs": [
    {
     "data": {
      "text/html": [
       "<div>\n",
       "<style scoped>\n",
       "    .dataframe tbody tr th:only-of-type {\n",
       "        vertical-align: middle;\n",
       "    }\n",
       "\n",
       "    .dataframe tbody tr th {\n",
       "        vertical-align: top;\n",
       "    }\n",
       "\n",
       "    .dataframe thead th {\n",
       "        text-align: right;\n",
       "    }\n",
       "</style>\n",
       "<table border=\"1\" class=\"dataframe\">\n",
       "  <thead>\n",
       "    <tr style=\"text-align: right;\">\n",
       "      <th></th>\n",
       "      <th>review</th>\n",
       "      <th>sentiment</th>\n",
       "    </tr>\n",
       "  </thead>\n",
       "  <tbody>\n",
       "    <tr>\n",
       "      <th>0</th>\n",
       "      <td>One of the other reviewers has mentioned that ...</td>\n",
       "      <td>positive</td>\n",
       "    </tr>\n",
       "    <tr>\n",
       "      <th>1</th>\n",
       "      <td>A wonderful little production. &lt;br /&gt;&lt;br /&gt;The...</td>\n",
       "      <td>positive</td>\n",
       "    </tr>\n",
       "    <tr>\n",
       "      <th>2</th>\n",
       "      <td>I thought this was a wonderful way to spend ti...</td>\n",
       "      <td>positive</td>\n",
       "    </tr>\n",
       "    <tr>\n",
       "      <th>3</th>\n",
       "      <td>Basically there's a family where a little boy ...</td>\n",
       "      <td>negative</td>\n",
       "    </tr>\n",
       "    <tr>\n",
       "      <th>4</th>\n",
       "      <td>Petter Mattei's \"Love in the Time of Money\" is...</td>\n",
       "      <td>positive</td>\n",
       "    </tr>\n",
       "  </tbody>\n",
       "</table>\n",
       "</div>"
      ],
      "text/plain": [
       "                                              review sentiment\n",
       "0  One of the other reviewers has mentioned that ...  positive\n",
       "1  A wonderful little production. <br /><br />The...  positive\n",
       "2  I thought this was a wonderful way to spend ti...  positive\n",
       "3  Basically there's a family where a little boy ...  negative\n",
       "4  Petter Mattei's \"Love in the Time of Money\" is...  positive"
      ]
     },
     "execution_count": 3,
     "metadata": {},
     "output_type": "execute_result"
    }
   ],
   "source": [
    "imdb.head()"
   ]
  },
  {
   "cell_type": "code",
   "execution_count": 4,
   "id": "106ceb81",
   "metadata": {},
   "outputs": [
    {
     "data": {
      "text/plain": [
       "['review', 'sentiment']"
      ]
     },
     "execution_count": 4,
     "metadata": {},
     "output_type": "execute_result"
    }
   ],
   "source": [
    "columns = []\n",
    "for i in imdb.columns:\n",
    "    columns.append(i)\n",
    "columns    "
   ]
  },
  {
   "cell_type": "code",
   "execution_count": 5,
   "id": "44079e69",
   "metadata": {},
   "outputs": [
    {
     "name": "stdout",
     "output_type": "stream",
     "text": [
      "unique values in dataset review is =  49582\n",
      "unique values in dataset sentiment is =  2\n"
     ]
    }
   ],
   "source": [
    "for i in imdb.columns:\n",
    "    print(\"unique values in dataset\", i , \"is = \", len(np.unique(imdb[i])))"
   ]
  },
  {
   "cell_type": "markdown",
   "id": "383e2961",
   "metadata": {},
   "source": [
    "* review column has 5000 rows and only 8-Non unique rows"
   ]
  },
  {
   "cell_type": "code",
   "execution_count": 6,
   "id": "84cb6f0b",
   "metadata": {},
   "outputs": [
    {
     "data": {
      "text/plain": [
       "positive    25000\n",
       "negative    25000\n",
       "Name: sentiment, dtype: int64"
      ]
     },
     "execution_count": 6,
     "metadata": {},
     "output_type": "execute_result"
    }
   ],
   "source": [
    "imdb.sentiment.value_counts()"
   ]
  },
  {
   "cell_type": "code",
   "execution_count": 7,
   "id": "a202cad4",
   "metadata": {
    "scrolled": true
   },
   "outputs": [
    {
     "data": {
      "text/plain": [
       "review       0\n",
       "sentiment    0\n",
       "dtype: int64"
      ]
     },
     "execution_count": 7,
     "metadata": {},
     "output_type": "execute_result"
    }
   ],
   "source": [
    "imdb.isnull().sum()"
   ]
  },
  {
   "cell_type": "markdown",
   "id": "32aa7e22",
   "metadata": {},
   "source": [
    "# Data Visualization:"
   ]
  },
  {
   "cell_type": "code",
   "execution_count": 8,
   "id": "1abc8031",
   "metadata": {},
   "outputs": [
    {
     "name": "stderr",
     "output_type": "stream",
     "text": [
      "C:\\Users\\mahes\\anaconda3\\lib\\site-packages\\seaborn\\_decorators.py:36: FutureWarning: Pass the following variable as a keyword arg: x. From version 0.12, the only valid positional argument will be `data`, and passing other arguments without an explicit keyword will result in an error or misinterpretation.\n",
      "  warnings.warn(\n"
     ]
    },
    {
     "data": {
      "image/png": "[encoded data removed]",
      "text/plain": [
       "<Figure size 648x432 with 1 Axes>"
      ]
     },
     "metadata": {
      "needs_background": "light"
     },
     "output_type": "display_data"
    }
   ],
   "source": [
    "plt.figure(figsize=[9, 6])\n",
    "sns.countplot(\"sentiment\", data=imdb)\n",
    "plt.show()"
   ]
  },
  {
   "cell_type": "markdown",
   "id": "da40b49d",
   "metadata": {},
   "source": [
    "### Label encoding of our target column:"
   ]
  },
  {
   "cell_type": "code",
   "execution_count": 9,
   "id": "d5cc7d8c",
   "metadata": {},
   "outputs": [],
   "source": [
    "def converting_target(x):\n",
    "    if x == 'negative':\n",
    "        return 0\n",
    "    else:\n",
    "        return 1\n",
    "imdb['sentiment'] = imdb['sentiment'].apply(converting_target)"
   ]
  },
  {
   "cell_type": "code",
   "execution_count": 10,
   "id": "46bc64e3",
   "metadata": {},
   "outputs": [
    {
     "data": {
      "text/html": [
       "<div>\n",
       "<style scoped>\n",
       "    .dataframe tbody tr th:only-of-type {\n",
       "        vertical-align: middle;\n",
       "    }\n",
       "\n",
       "    .dataframe tbody tr th {\n",
       "        vertical-align: top;\n",
       "    }\n",
       "\n",
       "    .dataframe thead th {\n",
       "        text-align: right;\n",
       "    }\n",
       "</style>\n",
       "<table border=\"1\" class=\"dataframe\">\n",
       "  <thead>\n",
       "    <tr style=\"text-align: right;\">\n",
       "      <th></th>\n",
       "      <th>review</th>\n",
       "      <th>sentiment</th>\n",
       "    </tr>\n",
       "  </thead>\n",
       "  <tbody>\n",
       "    <tr>\n",
       "      <th>0</th>\n",
       "      <td>One of the other reviewers has mentioned that ...</td>\n",
       "      <td>1</td>\n",
       "    </tr>\n",
       "    <tr>\n",
       "      <th>1</th>\n",
       "      <td>A wonderful little production. &lt;br /&gt;&lt;br /&gt;The...</td>\n",
       "      <td>1</td>\n",
       "    </tr>\n",
       "    <tr>\n",
       "      <th>2</th>\n",
       "      <td>I thought this was a wonderful way to spend ti...</td>\n",
       "      <td>1</td>\n",
       "    </tr>\n",
       "    <tr>\n",
       "      <th>3</th>\n",
       "      <td>Basically there's a family where a little boy ...</td>\n",
       "      <td>0</td>\n",
       "    </tr>\n",
       "    <tr>\n",
       "      <th>4</th>\n",
       "      <td>Petter Mattei's \"Love in the Time of Money\" is...</td>\n",
       "      <td>1</td>\n",
       "    </tr>\n",
       "  </tbody>\n",
       "</table>\n",
       "</div>"
      ],
      "text/plain": [
       "                                              review  sentiment\n",
       "0  One of the other reviewers has mentioned that ...          1\n",
       "1  A wonderful little production. <br /><br />The...          1\n",
       "2  I thought this was a wonderful way to spend ti...          1\n",
       "3  Basically there's a family where a little boy ...          0\n",
       "4  Petter Mattei's \"Love in the Time of Money\" is...          1"
      ]
     },
     "execution_count": 10,
     "metadata": {},
     "output_type": "execute_result"
    }
   ],
   "source": [
    "imdb.head()"
   ]
  },
  {
   "cell_type": "markdown",
   "id": "1acbc882",
   "metadata": {},
   "source": [
    "### Spliting our data into X, y:"
   ]
  },
  {
   "cell_type": "code",
   "execution_count": 11,
   "id": "264b1872",
   "metadata": {},
   "outputs": [],
   "source": [
    "X = imdb['review']\n",
    "y = imdb['sentiment']"
   ]
  },
  {
   "cell_type": "code",
   "execution_count": 12,
   "id": "98f1f6d7",
   "metadata": {},
   "outputs": [
    {
     "data": {
      "text/plain": [
       "0    One of the other reviewers has mentioned that ...\n",
       "1    A wonderful little production. <br /><br />The...\n",
       "2    I thought this was a wonderful way to spend ti...\n",
       "3    Basically there's a family where a little boy ...\n",
       "4    Petter Mattei's \"Love in the Time of Money\" is...\n",
       "Name: review, dtype: object"
      ]
     },
     "execution_count": 12,
     "metadata": {},
     "output_type": "execute_result"
    }
   ],
   "source": [
    "X.head()"
   ]
  },
  {
   "cell_type": "code",
   "execution_count": 13,
   "id": "2fb0228d",
   "metadata": {
    "scrolled": true
   },
   "outputs": [
    {
     "data": {
      "text/plain": [
       "array([1, 1, 1, ..., 0, 0, 0], dtype=int64)"
      ]
     },
     "execution_count": 13,
     "metadata": {},
     "output_type": "execute_result"
    }
   ],
   "source": [
    "y = np.array(y)\n",
    "y"
   ]
  },
  {
   "cell_type": "markdown",
   "id": "0f21c6e8",
   "metadata": {},
   "source": [
    "# Artificial Neural Language Processing:"
   ]
  },
  {
   "cell_type": "code",
   "execution_count": 14,
   "id": "745deda4",
   "metadata": {},
   "outputs": [],
   "source": [
    "from tensorflow import keras\n",
    "from keras.preprocessing.text import Tokenizer\n",
    "from keras.preprocessing.sequence import pad_sequences\n",
    "from tensorflow.keras.layers import LSTM, Dropout, Bidirectional, Embedding"
   ]
  },
  {
   "cell_type": "code",
   "execution_count": 15,
   "id": "003926b7",
   "metadata": {},
   "outputs": [],
   "source": [
    "token = Tokenizer(num_words=10000, oov_token='UNK')\n",
    "token.fit_on_texts(X)"
   ]
  },
  {
   "cell_type": "code",
   "execution_count": 16,
   "id": "b9b861ea",
   "metadata": {},
   "outputs": [],
   "source": [
    "X = token.texts_to_sequences(X)"
   ]
  },
  {
   "cell_type": "code",
   "execution_count": 17,
   "id": "5172f7c7",
   "metadata": {},
   "outputs": [],
   "source": [
    "X_pad = pad_sequences(X, maxlen=200, padding='post')"
   ]
  },
  {
   "cell_type": "code",
   "execution_count": 18,
   "id": "49745d46",
   "metadata": {},
   "outputs": [
    {
     "data": {
      "text/plain": [
       "array([   4,  394,  121,  354,    8,    8,    2, 1386, 2978,    7,   53,\n",
       "          1,   53,  156,   56, 2382, 1583,    3,  412,    4,    1,    3,\n",
       "        531,    1,  283,    5, 1848,    6,    2,  439,  413,    8,    8,\n",
       "          2,  151,   24,  569,   70, 2275,  499, 4572,   22,   62,   46,\n",
       "        190,   30,    2,    1,   19,   29,   46,   30,    2, 2295,  176,\n",
       "       3337,   97,   23,   68,  372,   64,    2,    1,  792, 9720,   32,\n",
       "          2, 1826,    6,    1, 7367, 6595,   22,   62,    7,   10,   70,\n",
       "        279,    2,  148,   19,   10,    7,    4,    1,  408,    3, 2407,\n",
       "        413,    4, 4340,  354,   43,   28,    5,    2,   79,    1,    5,\n",
       "        203,    3,   25,  115,    8,    8,    2, 1848,   63,  271,  345,\n",
       "         17,    2,  121,  178,    2, 1030,    5,    2, 2925,   61,  249,\n",
       "         72,  357,    2, 2207,    1, 3128, 1290, 1193,   92, 4912,   10,\n",
       "        298,   21,  261, 1831,    3,  261, 4593,  584,   17,    2,  135,\n",
       "       3691,    1,    3,    1,    3,    2,  731,  584,    5,   66, 1055,\n",
       "         17,    1,    1,    1,  171, 2298,   24, 1978,   70,  222,    0,\n",
       "          0,    0,    0,    0,    0,    0,    0,    0,    0,    0,    0,\n",
       "          0,    0,    0,    0,    0,    0,    0,    0,    0,    0,    0,\n",
       "          0,    0,    0,    0,    0,    0,    0,    0,    0,    0,    0,\n",
       "          0,    0])"
      ]
     },
     "execution_count": 18,
     "metadata": {},
     "output_type": "execute_result"
    }
   ],
   "source": [
    "X_pad[1]"
   ]
  },
  {
   "cell_type": "code",
   "execution_count": 19,
   "id": "6ecc1310",
   "metadata": {},
   "outputs": [],
   "source": [
    "from sklearn.model_selection import train_test_split"
   ]
  },
  {
   "cell_type": "code",
   "execution_count": 20,
   "id": "720103e8",
   "metadata": {},
   "outputs": [
    {
     "data": {
      "text/plain": [
       "((40000, 200), (10000, 200), (40000,), (10000,))"
      ]
     },
     "execution_count": 20,
     "metadata": {},
     "output_type": "execute_result"
    }
   ],
   "source": [
    "X_train, X_test, y_train, y_test = train_test_split(X_pad, y, test_size=0.20)\n",
    "X_train.shape, X_test.shape, y_train.shape, y_test.shape"
   ]
  },
  {
   "cell_type": "code",
   "execution_count": 21,
   "id": "d5e5d488",
   "metadata": {},
   "outputs": [
    {
     "data": {
      "text/plain": [
       "array([[  11,   77,   54, ...,  847,    1, 9680],\n",
       "       [   6,  450,   29, ...,  903,  428,   18],\n",
       "       [ 137,   11, 2754, ...,    0,    0,    0],\n",
       "       ...,\n",
       "       [  49,    7,   12, ...,    0,    0,    0],\n",
       "       [ 124,  555,    5, ...,    0,    0,    0],\n",
       "       [ 185,    6,   27, ...,   16,    4,  779]])"
      ]
     },
     "execution_count": 21,
     "metadata": {},
     "output_type": "execute_result"
    }
   ],
   "source": [
    "X_train"
   ]
  },
  {
   "cell_type": "code",
   "execution_count": 22,
   "id": "86311048",
   "metadata": {},
   "outputs": [
    {
     "data": {
      "text/plain": [
       "array([0, 1, 1, ..., 0, 0, 0], dtype=int64)"
      ]
     },
     "execution_count": 22,
     "metadata": {},
     "output_type": "execute_result"
    }
   ],
   "source": [
    "y_train"
   ]
  },
  {
   "cell_type": "code",
   "execution_count": 23,
   "id": "eaefb7b8",
   "metadata": {},
   "outputs": [],
   "source": [
    "from tensorflow.keras.models import Sequential\n",
    "from tensorflow.keras.layers import Dense, Activation"
   ]
  },
  {
   "cell_type": "code",
   "execution_count": 24,
   "id": "f7c3d5dd",
   "metadata": {},
   "outputs": [
    {
     "data": {
      "text/plain": [
       "(50000, 200)"
      ]
     },
     "execution_count": 24,
     "metadata": {},
     "output_type": "execute_result"
    }
   ],
   "source": [
    "X_pad.shape"
   ]
  },
  {
   "cell_type": "code",
   "execution_count": 25,
   "id": "b3cd4e47",
   "metadata": {},
   "outputs": [
    {
     "name": "stdout",
     "output_type": "stream",
     "text": [
      "Model: \"sequential\"\n",
      "_________________________________________________________________\n",
      "Layer (type)                 Output Shape              Param #   \n",
      "=================================================================\n",
      "dense (Dense)                (None, 150)               30150     \n",
      "_________________________________________________________________\n",
      "activation (Activation)      (None, 150)               0         \n",
      "_________________________________________________________________\n",
      "dense_1 (Dense)              (None, 120)               18120     \n",
      "_________________________________________________________________\n",
      "activation_1 (Activation)    (None, 120)               0         \n",
      "_________________________________________________________________\n",
      "dense_2 (Dense)              (None, 70)                8470      \n",
      "_________________________________________________________________\n",
      "activation_2 (Activation)    (None, 70)                0         \n",
      "_________________________________________________________________\n",
      "dense_3 (Dense)              (None, 30)                2130      \n",
      "_________________________________________________________________\n",
      "activation_3 (Activation)    (None, 30)                0         \n",
      "_________________________________________________________________\n",
      "dense_4 (Dense)              (None, 1)                 31        \n",
      "_________________________________________________________________\n",
      "activation_4 (Activation)    (None, 1)                 0         \n",
      "=================================================================\n",
      "Total params: 58,901\n",
      "Trainable params: 58,901\n",
      "Non-trainable params: 0\n",
      "_________________________________________________________________\n"
     ]
    }
   ],
   "source": [
    "ann = Sequential()\n",
    "\n",
    "\n",
    "\n",
    "ann.add(Dense(150, input_shape=(200, )))\n",
    "ann.add(Activation(\"softmax\"))\n",
    "\n",
    "\n",
    "ann.add(Dense(120))\n",
    "ann.add(Activation(\"softmax\"))\n",
    "\n",
    "\n",
    "ann.add(Dense(70))\n",
    "ann.add(Activation(\"softmax\"))\n",
    "\n",
    "\n",
    "ann.add(Dense(30))\n",
    "ann.add(Activation(\"softmax\"))\n",
    "\n",
    "\n",
    "\n",
    "#Output layer\n",
    "ann.add(Dense(1))\n",
    "ann.add(Activation(\"sigmoid\"))\n",
    "\n",
    "\n",
    "\n",
    "ann.summary()"
   ]
  },
  {
   "cell_type": "code",
   "execution_count": 26,
   "id": "db89b9ce",
   "metadata": {},
   "outputs": [],
   "source": [
    "ann.compile(optimizer=\"adam\", loss=\"binary_crossentropy\", metrics=['accuracy'])"
   ]
  },
  {
   "cell_type": "code",
   "execution_count": 27,
   "id": "cc2dcad7",
   "metadata": {
    "scrolled": false
   },
   "outputs": [
    {
     "name": "stdout",
     "output_type": "stream",
     "text": [
      "Epoch 1/15\n",
      "1250/1250 [==============================] - 5s 3ms/step - loss: 0.6932 - accuracy: 0.4978 - val_loss: 0.6932 - val_accuracy: 0.5008\n",
      "Epoch 2/15\n",
      "1250/1250 [==============================] - 6s 5ms/step - loss: 0.6932 - accuracy: 0.5009 - val_loss: 0.6931 - val_accuracy: 0.5008\n",
      "Epoch 3/15\n",
      "1250/1250 [==============================] - 6s 5ms/step - loss: 0.6932 - accuracy: 0.5013 - val_loss: 0.6931 - val_accuracy: 0.5008\n",
      "Epoch 4/15\n",
      "1250/1250 [==============================] - 6s 5ms/step - loss: 0.6933 - accuracy: 0.4952 - val_loss: 0.6932 - val_accuracy: 0.4992\n",
      "Epoch 5/15\n",
      "1250/1250 [==============================] - 6s 5ms/step - loss: 0.6932 - accuracy: 0.4976 - val_loss: 0.6932 - val_accuracy: 0.4992\n",
      "Epoch 6/15\n",
      "1250/1250 [==============================] - 6s 4ms/step - loss: 0.6932 - accuracy: 0.4992 - val_loss: 0.6932 - val_accuracy: 0.5008\n",
      "Epoch 7/15\n",
      "1250/1250 [==============================] - 5s 4ms/step - loss: 0.6932 - accuracy: 0.5012 - val_loss: 0.6933 - val_accuracy: 0.4992\n",
      "Epoch 8/15\n",
      "1250/1250 [==============================] - 4s 3ms/step - loss: 0.6932 - accuracy: 0.4970 - val_loss: 0.6931 - val_accuracy: 0.5008\n",
      "Epoch 9/15\n",
      "1250/1250 [==============================] - 4s 3ms/step - loss: 0.6932 - accuracy: 0.4972 - val_loss: 0.6931 - val_accuracy: 0.5008\n",
      "Epoch 10/15\n",
      "1250/1250 [==============================] - 4s 3ms/step - loss: 0.6932 - accuracy: 0.4997 - val_loss: 0.6932 - val_accuracy: 0.5008\n",
      "Epoch 11/15\n",
      "1250/1250 [==============================] - 6s 5ms/step - loss: 0.6933 - accuracy: 0.4978 - val_loss: 0.6932 - val_accuracy: 0.5008\n",
      "Epoch 12/15\n",
      "1250/1250 [==============================] - 5s 4ms/step - loss: 0.6932 - accuracy: 0.5018 - val_loss: 0.6932 - val_accuracy: 0.4992\n",
      "Epoch 13/15\n",
      "1250/1250 [==============================] - 5s 4ms/step - loss: 0.6932 - accuracy: 0.5005 - val_loss: 0.6933 - val_accuracy: 0.4992\n",
      "Epoch 14/15\n",
      "1250/1250 [==============================] - 5s 4ms/step - loss: 0.6932 - accuracy: 0.4974 - val_loss: 0.6933 - val_accuracy: 0.4992\n",
      "Epoch 15/15\n",
      "1250/1250 [==============================] - 3s 2ms/step - loss: 0.6932 - accuracy: 0.5035 - val_loss: 0.6932 - val_accuracy: 0.4992\n"
     ]
    },
    {
     "data": {
      "text/plain": [
       "<keras.callbacks.History at 0x151d3a86220>"
      ]
     },
     "execution_count": 27,
     "metadata": {},
     "output_type": "execute_result"
    }
   ],
   "source": [
    "ann.fit(X_train, y_train, validation_data=(X_test, y_test), epochs=15)"
   ]
  },
  {
   "cell_type": "code",
   "execution_count": null,
   "id": "61b7bde9",
   "metadata": {},
   "outputs": [],
   "source": []
  },
  {
   "cell_type": "code",
   "execution_count": null,
   "id": "8c426d1d",
   "metadata": {},
   "outputs": [],
   "source": []
  }
 ],
 "metadata": {
  "kernelspec": {
   "display_name": "Python 3",
   "language": "python",
   "name": "python3"
  },
  "language_info": {
   "codemirror_mode": {
    "name": "ipython",
    "version": 3
   },
   "file_extension": ".py",
   "mimetype": "text/x-python",
   "name": "python",
   "nbconvert_exporter": "python",
   "pygments_lexer": "ipython3",
   "version": "3.8.8"
  }
 },
 "nbformat": 4,
 "nbformat_minor": 5
}
